{
 "cells": [
  {
   "cell_type": "code",
   "execution_count": 1,
   "metadata": {},
   "outputs": [
    {
     "data": {
      "text/plain": [
       "True"
      ]
     },
     "execution_count": 1,
     "metadata": {},
     "output_type": "execute_result"
    }
   ],
   "source": [
    "from dotenv import load_dotenv\n",
    "import os\n",
    "\n",
    "# Load environment variables from .env file\n",
    "load_dotenv()"
   ]
  },
  {
   "cell_type": "code",
   "execution_count": 3,
   "metadata": {},
   "outputs": [
    {
     "name": "stdout",
     "output_type": "stream",
     "text": [
      "\n",
      "\n",
      "\u001b[1m> Entering new AgentExecutor chain...\u001b[0m\n",
      "\u001b[32;1m\u001b[1;3mThought: Do I need to use a tool? Yes\n",
      "Action: PubMed Search\n",
      "Action Input: causes of cancer\u001b[0m\u001b[36;1m\u001b[1;3mPublished: 2024-04-08\n",
      "Title: {'i': 'Fn', '#text': 'Engineering lauric acid-based nanodrug delivery systems for restoring chemosensitivity and improving biocompatibility of 5-FU and OxPt against -associated colorectal tumor.'}\n",
      "Copyright Information: \n",
      "Summary::\n",
      "['Fusobacterium nucleatum', 'Fn', 'Fn', 'Fn', 'Fn', 'in vitro', 'in vivo']\n",
      "Colorectal cancer (CRC) occurs in the colorectum and ranks second in the global incidence of all cancers, accounting for one of the highest mortalities. Although the combination chemotherapy regimen of 5-fluorouracil (5-FU) and platinum(IV) oxaliplatin prodrug (OxPt) is an effective strategy for CRC treatment in clinical practice, chemotherapy resistance caused by tumor-resided  () could result in treatment failure. To enhance the efficacy and improve the biocompatibility of combination chemotherapy, we developed an antibacterial-based nanodrug delivery system for -associated CRC treatment. A tumor microenvironment-activated nanomedicine 5-FU-LA@PPL was constructed by the self-assembly of chemotherapeutic drug derivatives 5-FU-LA and polymeric drug carrier PPL. PPL is prepared by conjugating lauric acid (LA) and OxPt to hyperbranched polyglycidyl ether. In principle, LA is used to selectively combat , inhibit autophagy in CRC cells, restore chemosensitivity of 5-FU as well as OxPt, and consequently enhance the combination chemotherapy effects for -associated drug-resistant colorectal tumor. Both  and  studies exhibited that the tailored nanomedicine possessed efficient antibacterial and anti-tumor activities with improved biocompatibility and reduced non-specific toxicity. Hence, this novel anti-tumor strategy has great potential in the combination chemotherapy of CRC, which suggests a clinically relevant valuable option for bacteria-associated drug-resistant cancers.\n",
      "\n",
      "Published: 2024-03-22\n",
      "Title: Bibliometric analysis of PTEN in neurodevelopment and neurodegeneration.\n",
      "Copyright Information: Copyright © 2024 Zhang, Tan, Wang, Li, Huang a\u001b[0m\n",
      "\u001b[32;1m\u001b[1;3m\u001b[0m\n",
      "\n",
      "\u001b[1m> Finished chain.\u001b[0m\n",
      "Published: 2024-04-08\n",
      "Title: {'i': 'Fn', '#text': 'Engineering lauric acid-based nanodrug delivery systems for restoring chemosensitivity and improving biocompatibility of 5-FU and OxPt against -associated colorectal tumor.'}\n",
      "Copyright Information: \n",
      "Summary::\n",
      "['Fusobacterium nucleatum', 'Fn', 'Fn', 'Fn', 'Fn', 'in vitro', 'in vivo']\n",
      "Colorectal cancer (CRC) occurs in the colorectum and ranks second in the global incidence of all cancers, accounting for one of the highest mortalities. Although the combination chemotherapy regimen of 5-fluorouracil (5-FU) and platinum(IV) oxaliplatin prodrug (OxPt) is an effective strategy for CRC treatment in clinical practice, chemotherapy resistance caused by tumor-resided  () could result in treatment failure. To enhance the efficacy and improve the biocompatibility of combination chemotherapy, we developed an antibacterial-based nanodrug delivery system for -associated CRC treatment. A tumor microenvironment-activated nanomedicine 5-FU-LA@PPL was constructed by the self-assembly of chemotherapeutic drug derivatives 5-FU-LA and polymeric drug carrier PPL. PPL is prepared by conjugating lauric acid (LA) and OxPt to hyperbranched polyglycidyl ether. In principle, LA is used to selectively combat , inhibit autophagy in CRC cells, restore chemosensitivity of 5-FU as well as OxPt, and consequently enhance the combination chemotherapy effects for -associated drug-resistant colorectal tumor. Both  and  studies exhibited that the tailored nanomedicine possessed efficient antibacterial and anti-tumor activities with improved biocompatibility and reduced non-specific toxicity. Hence, this novel anti-tumor strategy has great potential in the combination chemotherapy of CRC, which suggests a clinically relevant valuable option for bacteria-associated drug-resistant cancers.\n",
      "\n",
      "Published: 2024-03-22\n",
      "Title: Bibliometric analysis of PTEN in neurodevelopment and neurodegeneration.\n",
      "Copyright Information: Copyright © 2024 Zhang, Tan, Wang, Li, Huang a\n"
     ]
    }
   ],
   "source": [
    "from langchain_openai import ChatOpenAI\n",
    "from langchain.prompts import PromptTemplate\n",
    "from langchain.chains import LLMChain\n",
    "from langchain.chains.conversation.memory import ConversationBufferMemory\n",
    "from langchain.agents import AgentExecutor, create_react_agent\n",
    "from langchain.tools import Tool\n",
    "from langchain import hub\n",
    "from langchain_community.tools.pubmed.tool import PubmedQueryRun\n",
    "\n",
    "llm = ChatOpenAI(openai_api_key=os.getenv(\"API_KEY\"))\n",
    "\n",
    "prompt = PromptTemplate(\n",
    "    template=\"\"\"\n",
    "    You are a movie expert. You find movies from a genre or plot.\n",
    "\n",
    "    Chat History:{chat_history}\n",
    "    Question:{input}\n",
    "    \"\"\",\n",
    "    input_variables=[\"chat_history\", \"input\"],\n",
    ")\n",
    "\n",
    "memory = ConversationBufferMemory(memory_key=\"chat_history\", return_messages=True)\n",
    "\n",
    "chat_chain = LLMChain(llm=llm, prompt=prompt, memory=memory)\n",
    "\n",
    "articles = PubmedQueryRun()\n",
    "\n",
    "tools = [\n",
    "    Tool.from_function(\n",
    "        name=\"PubMed Search\",\n",
    "        description=\"Use when needing to find a protein, gene and disease relationship. The question will include the word 'genes', 'disease' and 'proteins. Return a text.\",\n",
    "        func=articles.run,\n",
    "        return_direct=True,\n",
    "    ),\n",
    "]\n",
    "\n",
    "agent_prompt = hub.pull(\"hwchase17/react-chat\")\n",
    "agent = create_react_agent(llm, tools, agent_prompt)\n",
    "agent_executor = AgentExecutor(\n",
    "    agent=agent,\n",
    "    tools=tools,\n",
    "    memory=memory,\n",
    "    max_interations=3,\n",
    "    verbose=True,\n",
    "    handle_parse_errors=True,\n",
    ")\n",
    "\n",
    "while True:\n",
    "    q = input(\"> \")\n",
    "    response = agent_executor.invoke({\"input\": q})\n",
    "    print(response[\"output\"])"
   ]
  }
 ],
 "metadata": {
  "kernelspec": {
   "display_name": ".venv",
   "language": "python",
   "name": "python3"
  },
  "language_info": {
   "codemirror_mode": {
    "name": "ipython",
    "version": 3
   },
   "file_extension": ".py",
   "mimetype": "text/x-python",
   "name": "python",
   "nbconvert_exporter": "python",
   "pygments_lexer": "ipython3",
   "version": "3.9.6"
  }
 },
 "nbformat": 4,
 "nbformat_minor": 2
}
